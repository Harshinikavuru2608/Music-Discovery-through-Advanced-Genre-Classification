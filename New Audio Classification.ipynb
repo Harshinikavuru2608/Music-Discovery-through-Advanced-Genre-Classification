{
 "cells": [
  {
   "cell_type": "markdown",
   "id": "80f755d4",
   "metadata": {},
   "source": [
    "# FINAL FEATURE EXTRACTION AND GENRE CLASSIFICATION"
   ]
  },
  {
   "cell_type": "markdown",
   "id": "40f5198a",
   "metadata": {},
   "source": [
    "## Importing required libraries"
   ]
  },
  {
   "cell_type": "code",
   "execution_count": 17,
   "id": "f19ed80b",
   "metadata": {},
   "outputs": [],
   "source": [
    "import warnings\n",
    "warnings.filterwarnings('ignore')"
   ]
  },
  {
   "cell_type": "code",
   "execution_count": 18,
   "id": "f8b51d4d",
   "metadata": {},
   "outputs": [],
   "source": [
    "import librosa\n",
    "import numpy as np\n",
    "from music21 import converter, analysis\n",
    "from joblib import load\n",
    "from tensorflow.keras.models import load_model"
   ]
  },
  {
   "cell_type": "markdown",
   "id": "6bf37f93",
   "metadata": {},
   "source": [
    "## Function for Extracting Initial Features using Librosa and Music21"
   ]
  },
  {
   "cell_type": "code",
   "execution_count": 20,
   "id": "bc84ea39",
   "metadata": {},
   "outputs": [],
   "source": [
    "def extracted_features(input1,input2):\n",
    "    y, sr = librosa.load(input1)\n",
    "    score = converter.parse(input2)\n",
    "    tempo, _ = librosa.beat.beat_track(y=y, sr=sr)\n",
    "    loudness = librosa.feature.rms(y=y).mean()\n",
    "    loudness=-(loudness)\n",
    "    duration_ms = librosa.get_duration(y=y, sr=sr) * 1000\n",
    "    mfccs = librosa.feature.mfcc(y=y, sr=sr,n_mfcc=12)\n",
    "    avg_timbre = np.mean(mfccs, axis=1)\n",
    "    chroma = librosa.feature.chroma_stft(y=y, sr=sr)\n",
    "    avg_pitch = np.mean(chroma, axis=1)\n",
    "    bar_count = len(score.parts[0].getElementsByClass('Measure'))\n",
    "    key = score.analyze('key')\n",
    "\n",
    "    tempo, beats = librosa.beat.beat_track(y=y, sr=sr)\n",
    "    beat_count = len(beats)\n",
    "\n",
    "    time_signatures = score.recurse().getElementsByClass('TimeSignature')\n",
    "    if time_signatures:\n",
    "        f = time_signatures[0].numerator\n",
    "    else:\n",
    "        f=0\n",
    "\n",
    "\n",
    "    key_map = {\n",
    "        'C': 0, 'C#': 1, 'D-': 1, 'D': 2, 'D#': 3, 'E-': 3,\n",
    "        'E': 4, 'F': 5, 'F#': 6, 'G-': 6, 'G': 7, 'G#': 8,\n",
    "        'A-': 8, 'A': 9, 'A#': 10, 'B-': 10, 'B': 11\n",
    "    }\n",
    "    tonic = key.tonic.name\n",
    "    mode = 1 if key.mode == 'major' else 0\n",
    "    key=key_map[tonic]\n",
    "    \n",
    "    avg_timbre = avg_timbre.tolist()\n",
    "    avg_pitch = avg_pitch.tolist()\n",
    "    l=[tempo,loudness,key,f, mode, bar_count, beat_count,duration_ms]+avg_timbre+avg_pitch\n",
    "    \n",
    "    return l\n"
   ]
  },
  {
   "cell_type": "markdown",
   "id": "e450f391",
   "metadata": {},
   "source": [
    "## Function To Extract the Remaining Features and Classifying the Genre"
   ]
  },
  {
   "cell_type": "code",
   "execution_count": 23,
   "id": "a79cbc6a",
   "metadata": {},
   "outputs": [],
   "source": [
    "def final_classification(x,y,):\n",
    "    initial_features=extracted_features(x,y)\n",
    "    inputs=initial_features[:5] + initial_features[7:8]\n",
    "    initial_features=np.array(initial_features).reshape(1,-1)\n",
    "    scaler_loaded = load('Scalars/scaler.joblib')\n",
    "    X=scaler_loaded.transform(initial_features)\n",
    "    X = X.reshape((X.shape[0], 1, X.shape[1]))\n",
    "    model_loaded = load_model('Models/audiofeatures.keras')\n",
    "    predictions_new = model_loaded.predict(X)\n",
    "    #inputs=extracted_features_final(x,y)\n",
    "    predictions_new=predictions_new.tolist()\n",
    "    final_inputs=inputs+predictions_new[0]\n",
    "    input_names = [\n",
    "    \"tempo\", \"loudness\", \"key\", \"time_signature\", \"mode\",\n",
    "    \"duration_ms\", \"danceability\", \"energy\", \"speechiness\",\n",
    "    \"acousticness\", \"instrumentalness\", \"liveness\", \"valence\"]\n",
    "    final_inputs_dict = dict(zip(input_names, final_inputs))\n",
    "    final_inputs_dict.pop('loudness', None)\n",
    "    ordered_features = [\n",
    "    \"danceability\", \"energy\",  \"speechiness\",\n",
    "    \"acousticness\", \"instrumentalness\", \"liveness\", \"valence\",\n",
    "    \"tempo\", \"duration_ms\"]\n",
    "    ordered_values = [final_inputs_dict[feature] for feature in ordered_features]\n",
    "    ordered_values=np.array(ordered_values)\n",
    "    scaler2 = load('Scalars/scaler2.joblib')\n",
    "    value=scaler2.transform(ordered_values.reshape(1,-1)).flatten()\n",
    "    for feature, value in zip(ordered_features, value):\n",
    "        final_inputs_dict[feature] = value\n",
    "    keys_to_remove = ['mode', 'time_signature', 'key']\n",
    "    for key in keys_to_remove:\n",
    "        final_inputs_dict.pop(key, None) \n",
    "    remaining_values = list(final_inputs_dict.values())\n",
    "    values_array = np.array(remaining_values)\n",
    "    model_loaded2 = load('Models/genreclassificationmodel.joblib')\n",
    "    prediction=model_loaded2.predict(values_array.reshape(1,-1) )\n",
    "    predicted_class_idx = prediction[0]\n",
    "    class_mapping = {0: \"classical\", 1: \"Electronic\", 2: \"Folk\", 3: \"Hip-hop\", 4: \"Rock\"}\n",
    "    predicted_class_label = class_mapping.get(predicted_class_idx, \"Unknown class\")\n",
    "    \n",
    "    return predicted_class_label"
   ]
  },
  {
   "cell_type": "markdown",
   "id": "999be3a5",
   "metadata": {},
   "source": [
    "## Line to Print the Genre of the Audio by Calling the Function"
   ]
  },
  {
   "cell_type": "code",
   "execution_count": 24,
   "id": "e45a7063",
   "metadata": {},
   "outputs": [
    {
     "name": "stdout",
     "output_type": "stream",
     "text": [
      "\u001b[1m1/1\u001b[0m \u001b[32m━━━━━━━━━━━━━━━━━━━━\u001b[0m\u001b[37m\u001b[0m \u001b[1m0s\u001b[0m 218ms/step\n",
      "The Classified Genre is: Electronic\n"
     ]
    }
   ],
   "source": [
    "print(\"The Classified Genre is:\",final_classification('ex.mp3','ex.mid'))"
   ]
  }
 ],
 "metadata": {
  "kernelspec": {
   "display_name": "Python 3.9 (Conda 2022.05) [python/3.9-2022.05]",
   "language": "python",
   "name": "python39_202205"
  },
  "language_info": {
   "codemirror_mode": {
    "name": "ipython",
    "version": 3
   },
   "file_extension": ".py",
   "mimetype": "text/x-python",
   "name": "python",
   "nbconvert_exporter": "python",
   "pygments_lexer": "ipython3",
   "version": "3.9.12"
  }
 },
 "nbformat": 4,
 "nbformat_minor": 5
}
